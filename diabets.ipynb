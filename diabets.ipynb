{
 "cells": [
  {
   "cell_type": "markdown",
   "metadata": {},
   "source": [
    "### 1. import libraries "
   ]
  },
  {
   "cell_type": "code",
   "execution_count": 1,
   "metadata": {},
   "outputs": [],
   "source": [
    "import pandas as pd \n",
    "import numpy as np \n",
    "import torch \n",
    "import torch.nn as nn \n",
    "from torch.utils.data import Dataset, DataLoader,random_split "
   ]
  },
  {
   "cell_type": "markdown",
   "metadata": {},
   "source": [
    "### 2. Set file_path "
   ]
  },
  {
   "cell_type": "code",
   "execution_count": 2,
   "metadata": {},
   "outputs": [],
   "source": [
    "file_path = \"/home/rudgh1999/diabets/diabetes.csv\""
   ]
  },
  {
   "cell_type": "markdown",
   "metadata": {},
   "source": [
    "### 3. Data preprocessing "
   ]
  },
  {
   "cell_type": "code",
   "execution_count": 3,
   "metadata": {},
   "outputs": [],
   "source": [
    "class CustomDataset(Dataset):\n",
    "    def __init__(self,file_path):\n",
    "        df = pd.read_csv(filepath_or_buffer=file_path)\n",
    "        self.x = df.iloc[:,0:8].values \n",
    "        self.y = df.iloc[:,8:9].values\n",
    "        self.length = len(df)\n",
    "\n",
    "    def __getitem__(self,index):\n",
    "        x = torch.FloatTensor(self.x[index])\n",
    "        y = torch.FloatTensor(self.y[index])\n",
    "        return x,y \n",
    "    \n",
    "    def __len__(self):\n",
    "        return self.length"
   ]
  },
  {
   "cell_type": "markdown",
   "metadata": {},
   "source": [
    "### 4. Create Dataloader and load the data on the dataloader "
   ]
  },
  {
   "cell_type": "code",
   "execution_count": 4,
   "metadata": {},
   "outputs": [
    {
     "data": {
      "text/plain": [
       "(615, 52)"
      ]
     },
     "execution_count": 4,
     "metadata": {},
     "output_type": "execute_result"
    }
   ],
   "source": [
    "dataset = CustomDataset(file_path=file_path)\n",
    "train_size = 0.8 \n",
    "test_size = 0.2 \n",
    "train_dataset, test_dataset = random_split(dataset,[train_size,test_size])\n",
    "\n",
    "train_dataloader = DataLoader(dataset=train_dataset,\n",
    "                              batch_size=12,\n",
    "                              num_workers=0,\n",
    "                              shuffle=True)\n",
    "test_dataloader = DataLoader(dataset=test_dataset,\n",
    "                             batch_size=12,\n",
    "                             num_workers=0,\n",
    "                             shuffle=False)\n",
    "len(train_dataset),len(train_dataloader)"
   ]
  },
  {
   "cell_type": "markdown",
   "metadata": {},
   "source": [
    "### 5. Let's build model "
   ]
  },
  {
   "cell_type": "code",
   "execution_count": 5,
   "metadata": {},
   "outputs": [],
   "source": [
    "class DiabetsModel(nn.Module):\n",
    "    def __init__(self):\n",
    "        super().__init__()\n",
    "        self.layer = nn.Sequential(\n",
    "            nn.Linear(8,32),\n",
    "            nn.ReLU(),\n",
    "            nn.Linear(32,16),\n",
    "            nn.ReLU(),\n",
    "            nn.Linear(16,1),\n",
    "            nn.Sigmoid(),\n",
    "        )\n",
    "    \n",
    "    def forward(self,x):\n",
    "        return self.layer(x)"
   ]
  },
  {
   "cell_type": "markdown",
   "metadata": {},
   "source": [
    "### +++ Make accuracy function"
   ]
  },
  {
   "cell_type": "code",
   "execution_count": 6,
   "metadata": {},
   "outputs": [],
   "source": [
    "# Accuracy function \n",
    "def accuracy_fn(y_true,y_pred):\n",
    "    correct = torch.eq(y_true,y_pred).sum().item()\n",
    "    acc = (correct / len(y_pred)) * 100 \n",
    "    return acc"
   ]
  },
  {
   "cell_type": "markdown",
   "metadata": {},
   "source": [
    "### 6. Let's set our optimizer and loss_fn "
   ]
  },
  {
   "cell_type": "code",
   "execution_count": 7,
   "metadata": {},
   "outputs": [],
   "source": [
    "model = DiabetsModel()\n",
    "loss_fn = nn.BCELoss()\n",
    "optimizer = torch.optim.SGD(params=model.parameters(),lr=0.001)\n",
    "# optimizer = torch.optim.Adam(params=model.parameters(),lr=0.001)\n"
   ]
  },
  {
   "cell_type": "markdown",
   "metadata": {},
   "source": [
    "### 7. Let's training our Model"
   ]
  },
  {
   "cell_type": "code",
   "execution_count": 8,
   "metadata": {},
   "outputs": [
    {
     "name": "stdout",
     "output_type": "stream",
     "text": [
      "\n",
      "Train loss: 0.74256 | Test loss: 0.66340, Test acc: 64.53 %\n",
      "\n",
      "\n",
      "Train loss: 0.67309 | Test loss: 0.66486, Test acc: 66.88 %\n",
      "\n",
      "\n",
      "Train loss: 0.65329 | Test loss: 0.66281, Test acc: 67.52 %\n",
      "\n",
      "\n",
      "Train loss: 0.64619 | Test loss: 0.61775, Test acc: 67.52 %\n",
      "\n",
      "\n",
      "Train loss: 0.64528 | Test loss: 0.64830, Test acc: 61.75 %\n",
      "\n",
      "\n",
      "Train loss: 0.63238 | Test loss: 0.65773, Test acc: 68.16 %\n",
      "\n",
      "\n",
      "Train loss: 0.62301 | Test loss: 0.66420, Test acc: 66.88 %\n",
      "\n",
      "\n",
      "Train loss: 0.63715 | Test loss: 0.62294, Test acc: 66.88 %\n",
      "\n",
      "\n",
      "Train loss: 0.63066 | Test loss: 0.62831, Test acc: 67.95 %\n",
      "\n",
      "\n",
      "Train loss: 0.62411 | Test loss: 0.59068, Test acc: 70.73 %\n",
      "\n"
     ]
    }
   ],
   "source": [
    "\n",
    "numepochs = 10\n",
    "losses = torch.zeros(numepochs)\n",
    "\n",
    "for epochi in range(numepochs):\n",
    "    model.train()\n",
    "    epochi_train_loss = 0\n",
    "    epochi_train_acc = 0 \n",
    "    for batch_idx,(x,y) in enumerate(train_dataloader):\n",
    "        yhat = model(x)\n",
    "        y_hat_labels = torch.round(yhat)\n",
    "        loss = loss_fn(yhat,y)\n",
    "        epochi_train_acc += accuracy_fn(y_true=y,\n",
    "                          y_pred=(yhat>0.5).float())\n",
    "        # print(batch_idx,acc)\n",
    "        optimizer.zero_grad()\n",
    "        loss.backward()\n",
    "        optimizer.step()\n",
    "\n",
    "        epochi_train_loss += loss.item()\n",
    "        losses[epochi] = loss\n",
    "    epochi_train_loss /= len(train_dataloader)\n",
    "    epochi_train_acc /= len(train_dataloader)\n",
    "     \n",
    "    # print(f\"Epochi train loss:{epochi_train_loss:.5f}, Epochi train acc : {epochi_train_acc}\")\n",
    "    ### Testing \n",
    "    epochi_test_loss, epochi_test_acc = 0,0 \n",
    "    model.eval()\n",
    "    with torch.inference_mode():\n",
    "        for X,y in test_dataloader:\n",
    "            test_yhat = model(X)\n",
    "            test_yhat_labels = torch.round(test_yhat)\n",
    "            epochi_test_loss += loss_fn(test_yhat,y)\n",
    "            epochi_test_acc += accuracy_fn(y_true=y,\n",
    "                                           y_pred=(test_yhat>0.5).float())\n",
    "        \n",
    "        epochi_test_loss /= len(test_dataloader)\n",
    "        epochi_test_acc /= len(test_dataloader)\n",
    "    print(f\"\\nTrain loss: {epochi_train_loss:.5f} | Test loss: {epochi_test_loss:.5f}, Test acc: {epochi_test_acc:.2f} %\\n\")\n",
    "            \n",
    "            \n",
    "\n",
    "\n",
    "    \n",
    "\n",
    "\n",
    "        "
   ]
  },
  {
   "cell_type": "markdown",
   "metadata": {},
   "source": [
    "### 8. Let's plot the loss curves and visualize "
   ]
  },
  {
   "cell_type": "code",
   "execution_count": 9,
   "metadata": {},
   "outputs": [
    {
     "data": {
      "image/png": "[encoded data removed]",
      "text/plain": [
       "<Figure size 640x480 with 1 Axes>"
      ]
     },
     "metadata": {},
     "output_type": "display_data"
    }
   ],
   "source": [
    "import matplotlib.pyplot as plt \n",
    "plt.plot(losses.detach(),\"ro\",markerfacecolor=\"w\",linewidth=0.1)\n",
    "plt.show()"
   ]
  },
  {
   "cell_type": "code",
   "execution_count": 18,
   "metadata": {},
   "outputs": [
    {
     "name": "stdout",
     "output_type": "stream",
     "text": [
      "[INFO] Saving model to : models_d/diabets_linear_model.pth\n"
     ]
    }
   ],
   "source": [
    "from going_module import utils \n",
    "utils.save_model(model = model,\n",
    "                 target_dir=\"models_d\",\n",
    "                 model_name=\"diabets_linear_model.pth\")"
   ]
  }
 ],
 "metadata": {
  "kernelspec": {
   "display_name": "diabets",
   "language": "python",
   "name": "python3"
  },
  "language_info": {
   "codemirror_mode": {
    "name": "ipython",
    "version": 3
   },
   "file_extension": ".py",
   "mimetype": "text/x-python",
   "name": "python",
   "nbconvert_exporter": "python",
   "pygments_lexer": "ipython3",
   "version": "3.9.7"
  }
 },
 "nbformat": 4,
 "nbformat_minor": 2
}
